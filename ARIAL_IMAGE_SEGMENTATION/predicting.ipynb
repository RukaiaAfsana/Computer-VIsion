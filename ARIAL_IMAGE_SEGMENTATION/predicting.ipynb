{
 "cells": [
  {
   "cell_type": "code",
   "execution_count": null,
   "metadata": {},
   "outputs": [],
   "source": [
    "idx = 7\n",
    "\n",
    "checkpoint = torch.load('model_for_aerial_segment.pth')\n",
    "model.load_state_dict(checkpoint['model_state_dict'])\n",
    "model.eval()\n",
    "image,mask = valid_dataset[idx]\n",
    "logits_mask = model(image.to(DEVICE).unsqueeze(0)) #logits are the raw output without sigmoid or activation function , so the model ouput is (c,h,w ) but fpr prediction it needs batch. that's wht the squeex, it will add a extra dimension for batch\n",
    "pred_mask = torch.sigmoid(logits_mask)\n",
    "pred_mask = (pred_mask > 0.5)*1.0  #making 0 and 1 for binary segmentation\n",
    "pred_mask = pred_mask.detach().cpu().squeeze(0) # so for printing the predicted image we need to remove the batch.\n"
   ]
  }
 ],
 "metadata": {
  "language_info": {
   "name": "python"
  }
 },
 "nbformat": 4,
 "nbformat_minor": 2
}
