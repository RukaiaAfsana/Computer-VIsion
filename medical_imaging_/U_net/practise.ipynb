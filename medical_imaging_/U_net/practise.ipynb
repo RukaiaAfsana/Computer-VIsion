{
 "cells": [
  {
   "cell_type": "code",
   "execution_count": 5,
   "id": "b06de3a2-78bd-43f3-9c86-2665476bb6d4",
   "metadata": {},
   "outputs": [
    {
     "data": {
      "text/plain": [
       "[64, 128, 256, 512]"
      ]
     },
     "execution_count": 5,
     "metadata": {},
     "output_type": "execute_result"
    }
   ],
   "source": [
    "filter_size = [64,128,256,512]\n",
    "filter_size"
   ]
  },
  {
   "cell_type": "code",
   "execution_count": 21,
   "id": "a7510743-0f1d-44f0-8625-9a0c398136b8",
   "metadata": {},
   "outputs": [
    {
     "name": "stdout",
     "output_type": "stream",
     "text": [
      "1024\n",
      "512\n",
      "256\n",
      "128\n"
     ]
    }
   ],
   "source": [
    "a = reversed(filter_size)\n",
    "for i in a: \n",
    "    print(i*2)"
   ]
  },
  {
   "cell_type": "code",
   "execution_count": 23,
   "id": "73e32595-6696-4fed-8ef7-fb67ad5f3687",
   "metadata": {},
   "outputs": [
    {
     "ename": "SyntaxError",
     "evalue": "cannot assign to expression (748235357.py, line 1)",
     "output_type": "error",
     "traceback": [
      "\u001b[0;36m  Cell \u001b[0;32mIn[23], line 1\u001b[0;36m\u001b[0m\n\u001b[0;31m    [i in a for  i*2]\u001b[0m\n\u001b[0m                 ^\u001b[0m\n\u001b[0;31mSyntaxError\u001b[0m\u001b[0;31m:\u001b[0m cannot assign to expression\n"
     ]
    }
   ],
   "source": [
    "[i in a for  i*2]\n",
    "    "
   ]
  },
  {
   "cell_type": "code",
   "execution_count": 16,
   "id": "affb5d71-90c2-49f0-afa3-96cb54702cbb",
   "metadata": {},
   "outputs": [
    {
     "ename": "SyntaxError",
     "evalue": "incomplete input (1259071827.py, line 1)",
     "output_type": "error",
     "traceback": [
      "\u001b[0;36m  Cell \u001b[0;32mIn[16], line 1\u001b[0;36m\u001b[0m\n\u001b[0;31m    print(type(a)\u001b[0m\n\u001b[0m                 ^\u001b[0m\n\u001b[0;31mSyntaxError\u001b[0m\u001b[0;31m:\u001b[0m incomplete input\n"
     ]
    }
   ],
   "source": []
  },
  {
   "cell_type": "code",
   "execution_count": 24,
   "id": "14b84455-f6ea-4cd6-954a-dc54660a3813",
   "metadata": {},
   "outputs": [
    {
     "data": {
      "text/plain": [
       "[0, 2, 4, 6, 8, 10, 12, 14, 16, 18]"
      ]
     },
     "execution_count": 24,
     "metadata": {},
     "output_type": "execute_result"
    }
   ],
   "source": [
    "[x*2 for x in range(10)]"
   ]
  },
  {
   "cell_type": "code",
   "execution_count": 25,
   "id": "1e5f9779-123e-494e-ac30-0f3926f99872",
   "metadata": {},
   "outputs": [
    {
     "data": {
      "text/plain": [
       "[0, 4, 8, 12, 16]"
      ]
     },
     "execution_count": 25,
     "metadata": {},
     "output_type": "execute_result"
    }
   ],
   "source": [
    "[x*2 for x in range(10) if x%2==0]"
   ]
  },
  {
   "cell_type": "code",
   "execution_count": 27,
   "id": "2b24ad21-8a7c-4ace-a002-4e963c365ec7",
   "metadata": {},
   "outputs": [
    {
     "name": "stdout",
     "output_type": "stream",
     "text": [
      "['RUKAIA', 'I LOVE YOU ']\n"
     ]
    }
   ],
   "source": [
    "words = ['rukaia','i love you ']\n",
    "uppercase_words = [word.upper() for word in words]\n",
    "print(uppercase_words)"
   ]
  },
  {
   "cell_type": "code",
   "execution_count": 29,
   "id": "b1202de0-5161-4557-b488-b0754d1871cf",
   "metadata": {},
   "outputs": [
    {
     "data": {
      "text/plain": [
       "[(0, 1),\n",
       " (0, 3),\n",
       " (0, 5),\n",
       " (0, 7),\n",
       " (0, 9),\n",
       " (2, 1),\n",
       " (2, 3),\n",
       " (2, 5),\n",
       " (2, 7),\n",
       " (2, 9),\n",
       " (4, 1),\n",
       " (4, 3),\n",
       " (4, 5),\n",
       " (4, 7),\n",
       " (4, 9),\n",
       " (6, 1),\n",
       " (6, 3),\n",
       " (6, 5),\n",
       " (6, 7),\n",
       " (6, 9),\n",
       " (8, 1),\n",
       " (8, 3),\n",
       " (8, 5),\n",
       " (8, 7),\n",
       " (8, 9),\n",
       " (10, 1),\n",
       " (10, 3),\n",
       " (10, 5),\n",
       " (10, 7),\n",
       " (10, 9),\n",
       " (12, 1),\n",
       " (12, 3),\n",
       " (12, 5),\n",
       " (12, 7),\n",
       " (12, 9),\n",
       " (14, 1),\n",
       " (14, 3),\n",
       " (14, 5),\n",
       " (14, 7),\n",
       " (14, 9),\n",
       " (16, 1),\n",
       " (16, 3),\n",
       " (16, 5),\n",
       " (16, 7),\n",
       " (16, 9),\n",
       " (18, 1),\n",
       " (18, 3),\n",
       " (18, 5),\n",
       " (18, 7),\n",
       " (18, 9)]"
      ]
     },
     "execution_count": 29,
     "metadata": {},
     "output_type": "execute_result"
    }
   ],
   "source": [
    "\n",
    "[(i,j) for i in range(20) for j in range(10) if i%2==0 if j%2 != 0]"
   ]
  },
  {
   "cell_type": "code",
   "execution_count": 49,
   "id": "3317cbf4-97e3-4cda-8401-0c4d594e9659",
   "metadata": {},
   "outputs": [],
   "source": [
    "import torch \n",
    "import torch.nn as nn\n",
    "\n",
    "class MyModel(nn.Module):\n",
    "    def __init__(self, nub_layer, in_channel, out_channel):\n",
    "        super(MyModel,self).__init__()\n",
    "        self.layers = nn.ModuleList()\n",
    "\n",
    "        for i in range(nub_layer):\n",
    "            self.layers.append(nn.Conv2d(in_channel,out_channel, 3,1,1))\n",
    "            self.layers.append(nn.ReLU())\n",
    "            in_channel = out_channel\n",
    "\n",
    "    def forward(self, x):\n",
    "        for layer in self.layers:\n",
    "            x = layer(x)\n",
    "        return x \n",
    "        \n",
    "        \n",
    "    "
   ]
  },
  {
   "cell_type": "code",
   "execution_count": 50,
   "id": "8ae089b3-e248-4558-a33a-1dc398f823d0",
   "metadata": {},
   "outputs": [
    {
     "name": "stdout",
     "output_type": "stream",
     "text": [
      "MyModel(\n",
      "  (layers): ModuleList(\n",
      "    (0): Conv2d(3, 16, kernel_size=(3, 3), stride=(1, 1), padding=(1, 1))\n",
      "    (1): ReLU()\n",
      "    (2): Conv2d(16, 16, kernel_size=(3, 3), stride=(1, 1), padding=(1, 1))\n",
      "    (3): ReLU()\n",
      "    (4): Conv2d(16, 16, kernel_size=(3, 3), stride=(1, 1), padding=(1, 1))\n",
      "    (5): ReLU()\n",
      "    (6): Conv2d(16, 16, kernel_size=(3, 3), stride=(1, 1), padding=(1, 1))\n",
      "    (7): ReLU()\n",
      "  )\n",
      ")\n"
     ]
    }
   ],
   "source": [
    "model = MyModel(4,3,16)\n",
    "print(model)"
   ]
  },
  {
   "cell_type": "code",
   "execution_count": 51,
   "id": "6816fa43-f46e-4925-8579-238438b2af19",
   "metadata": {},
   "outputs": [
    {
     "name": "stdout",
     "output_type": "stream",
     "text": [
      "torch.Size([1, 16, 64, 64])\n"
     ]
    }
   ],
   "source": [
    "input_tensor = torch.randn(1, 3, 64, 64)  # Batch of 1, 3 channels, 64x64 image\n",
    "output = model(input_tensor)\n",
    "print(output.shape)"
   ]
  },
  {
   "cell_type": "code",
   "execution_count": 102,
   "id": "67b1779f-5fc7-4e01-9419-53a8e62b3837",
   "metadata": {},
   "outputs": [],
   "source": [
    "class MyModel(nn.Module):\n",
    "    def __init__(self, num_layers, in_channel, out_channel):\n",
    "        super(MyModel, self).__init__()\n",
    "        self.layers = nn.ModuleList()\n",
    "\n",
    "        # Create layers dynamically\n",
    "        for i in range(num_layers):\n",
    "            self.layers.append(nn.Conv2d(in_channel, out_channel, kernel_size=3, stride=1, padding=1))\n",
    "            self.layers.append(nn.Conv2d(out_channel,out_channel,4,1,1))\n",
    "            self.layers.append()\n",
    "            in_channel = out_channel  # Update in_channel for the next layer\n",
    "        \n",
    "    def forward(self, x):\n",
    "        print(\"Forward method called!\", flush=True)\n",
    "        for i, layer in enumerate(self.layers):\n",
    "            x = layer(x)\n",
    "            print(f\"After layer {i}, shape: {x.shape}\", flush=True)\n",
    "        return x\n",
    "\n",
    "            "
   ]
  },
  {
   "cell_type": "code",
   "execution_count": 103,
   "id": "45b24549-9d1b-40f2-8345-77a42fa973b2",
   "metadata": {},
   "outputs": [],
   "source": [
    "model = MyModel(4,3,64)"
   ]
  },
  {
   "cell_type": "code",
   "execution_count": 104,
   "id": "e80cb93f-40ef-4401-8165-9cfd6543e2aa",
   "metadata": {},
   "outputs": [
    {
     "name": "stdout",
     "output_type": "stream",
     "text": [
      "MyModel(\n",
      "  (layers): ModuleList(\n",
      "    (0): Conv2d(3, 64, kernel_size=(3, 3), stride=(1, 1), padding=(1, 1))\n",
      "    (1): Conv2d(64, 64, kernel_size=(4, 4), stride=(1, 1), padding=(1, 1))\n",
      "    (2): Conv2d(64, 64, kernel_size=(3, 3), stride=(1, 1), padding=(1, 1))\n",
      "    (3): Conv2d(64, 64, kernel_size=(4, 4), stride=(1, 1), padding=(1, 1))\n",
      "    (4): Conv2d(64, 64, kernel_size=(3, 3), stride=(1, 1), padding=(1, 1))\n",
      "    (5): Conv2d(64, 64, kernel_size=(4, 4), stride=(1, 1), padding=(1, 1))\n",
      "    (6): Conv2d(64, 64, kernel_size=(3, 3), stride=(1, 1), padding=(1, 1))\n",
      "    (7): Conv2d(64, 64, kernel_size=(4, 4), stride=(1, 1), padding=(1, 1))\n",
      "  )\n",
      ")\n"
     ]
    }
   ],
   "source": [
    "print(model)"
   ]
  },
  {
   "cell_type": "code",
   "execution_count": 101,
   "id": "ab786d04-52b8-4c7f-9113-6e5ea5fce0ec",
   "metadata": {},
   "outputs": [
    {
     "name": "stdout",
     "output_type": "stream",
     "text": [
      "Forward method called!\n",
      "After layer 0, shape: torch.Size([1, 64, 64, 64])\n",
      "After layer 1, shape: torch.Size([1, 64, 64, 64])\n",
      "After layer 2, shape: torch.Size([1, 64, 64, 64])\n",
      "After layer 3, shape: torch.Size([1, 64, 64, 64])\n",
      "torch.Size([1, 64, 64, 64])\n"
     ]
    }
   ],
   "source": [
    "input_tensor = torch.randn(1, 3, 64, 64)  # Batch of 1, 3 channels, 64x64 image\n",
    "output = model(input_tensor)\n",
    "print(output.shape)"
   ]
  },
  {
   "cell_type": "code",
   "execution_count": null,
   "id": "622828d9-88d3-465f-b062-7986904617fe",
   "metadata": {},
   "outputs": [],
   "source": []
  }
 ],
 "metadata": {
  "kernelspec": {
   "display_name": "Python 3 (ipykernel)",
   "language": "python",
   "name": "python3"
  },
  "language_info": {
   "codemirror_mode": {
    "name": "ipython",
    "version": 3
   },
   "file_extension": ".py",
   "mimetype": "text/x-python",
   "name": "python",
   "nbconvert_exporter": "python",
   "pygments_lexer": "ipython3",
   "version": "3.10.12"
  }
 },
 "nbformat": 4,
 "nbformat_minor": 5
}
